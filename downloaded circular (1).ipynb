{
 "cells": [
  {
   "cell_type": "code",
   "execution_count": 1,
   "id": "984ba415-b0f9-4e8d-9eb9-f2ed80ee1e59",
   "metadata": {},
   "outputs": [
    {
     "name": "stdout",
     "output_type": "stream",
     "text": [
      "Requirement already satisfied: PyPDF2 in c:\\users\\dell\\anaconda3\\lib\\site-packages (3.0.1)\n",
      "Requirement already satisfied: requests in c:\\users\\dell\\anaconda3\\lib\\site-packages (2.32.2)\n",
      "Requirement already satisfied: charset-normalizer<4,>=2 in c:\\users\\dell\\anaconda3\\lib\\site-packages (from requests) (2.0.4)\n",
      "Requirement already satisfied: idna<4,>=2.5 in c:\\users\\dell\\anaconda3\\lib\\site-packages (from requests) (3.7)\n",
      "Requirement already satisfied: urllib3<3,>=1.21.1 in c:\\users\\dell\\anaconda3\\lib\\site-packages (from requests) (2.2.2)\n",
      "Requirement already satisfied: certifi>=2017.4.17 in c:\\users\\dell\\anaconda3\\lib\\site-packages (from requests) (2024.8.30)\n",
      "Note: you may need to restart the kernel to use updated packages.\n"
     ]
    }
   ],
   "source": [
    "pip install PyPDF2 requests\n"
   ]
  },
  {
   "cell_type": "code",
   "execution_count": 3,
   "id": "a4a0dbc2-7da9-4ee4-9d1d-5f51c4a1d2ed",
   "metadata": {},
   "outputs": [
    {
     "name": "stdout",
     "output_type": "stream",
     "text": [
      "Failed to download http://www.rbi.org.in/: 404 Client Error: Not Found for url: http://www.rbi.org.in/\n",
      "Downloaded: C:\\Users\\Dell\\Downloads\\NotificationUser.aspx_Id=174&Mode=0\n",
      "Downloaded: C:\\Users\\Dell\\Downloads\\NotificationUser.aspx_Id=11266&Mode=0\n",
      "Downloaded: C:\\Users\\Dell\\Downloads\\NotificationUser.aspx_Id=11266&Mode=0\n",
      "Downloaded: C:\\Users\\Dell\\Downloads\\NotificationUser.aspx_Id=11266&Mode=0\n"
     ]
    }
   ],
   "source": [
    "#main code that would extract links(of a document) from a head document and download the child documents\n",
    "import requests\n",
    "import PyPDF2\n",
    "import os\n",
    "import re\n",
    "from urllib.parse import urljoin\n",
    "#first extract links from the pdf\n",
    "def extract_links_from_pdf(pdf_path):\n",
    "    links = []\n",
    "    with open(pdf_path, 'rb') as file:\n",
    "        reader = PyPDF2.PdfReader(file)\n",
    "        for page in reader.pages:\n",
    "            if '/Annots' in page:\n",
    "                for annot in page['/Annots']:\n",
    "                    annot_obj = annot.get_object()  # Resolve the IndirectObject\n",
    "                    if '/A' in annot_obj:\n",
    "                        action = annot_obj['/A']\n",
    "                        if '/URI' in action:\n",
    "                            uri = action['/URI']\n",
    "                            links.append(uri)\n",
    "    return links\n",
    " # Removing any characters that are invalid in Windows filenames\n",
    "def sanitize_filename(url):\n",
    "   \n",
    "    return re.sub(r'[<>:\"/\\\\|?*\\x00-\\x1F]', '_', url.split('/')[-1])\n",
    "\n",
    "def download_pdf(url, output_folder):\n",
    "    try:\n",
    "        response = requests.get(url)\n",
    "        response.raise_for_status()  # Check for HTTP errors\n",
    "        pdf_name = sanitize_filename(url) \n",
    "        pdf_path = os.path.join(output_folder, pdf_name)\n",
    "        with open(pdf_path, 'wb') as pdf_file:\n",
    "            pdf_file.write(response.content)\n",
    "        print(f'Downloaded: {pdf_path}')\n",
    "    except requests.exceptions.HTTPError as e:\n",
    "        print(f'Failed to download {url}: {e}')  # Handle HTTP errors \n",
    "    except Exception as e:\n",
    "        print(f'Failed to save {url}: {e}')  \n",
    "\n",
    "def main(input_pdf, output_folder):\n",
    "    if not os.path.exists(output_folder):\n",
    "        os.makedirs(output_folder)\n",
    "\n",
    "    links = extract_links_from_pdf(input_pdf)\n",
    "    for link in links:\n",
    "        download_pdf(link, output_folder)\n",
    "\n",
    "if __name__ == '__main__':\n",
    "    input_pdf_path = r'C:/Users/Dell/Downloads/Withdrawn Circular 2.pdf'  #pdf path\n",
    "    output_directory = r'C:\\Users\\Dell\\Downloads'  #directory where u want it to be save\n",
    "    main(input_pdf_path, output_directory)\n"
   ]
  },
  {
   "cell_type": "code",
   "execution_count": 3,
   "id": "137ffa9f-1d28-4986-a8ef-10cd928d28d5",
   "metadata": {},
   "outputs": [
    {
     "name": "stdin",
     "output_type": "stream",
     "text": [
      "Enter the path of the PDF file:  C:/Users/Dell/Downloads/Withdrawn Circular 2.pdf\n",
      "Enter the output directory where files should be saved:  C:\\Users\\Dell\\downloaded_pdfs\n"
     ]
    },
    {
     "name": "stdout",
     "output_type": "stream",
     "text": [
      "Failed to download http://www.rbi.org.in/: 404 Client Error: Not Found for url: http://www.rbi.org.in/\n",
      "Downloaded: C:\\Users\\Dell\\downloaded_pdfs\\NotificationUser.aspx_Id=174&Mode=0\n",
      "Downloaded: C:\\Users\\Dell\\downloaded_pdfs\\NotificationUser.aspx_Id=11266&Mode=0\n",
      "Downloaded: C:\\Users\\Dell\\downloaded_pdfs\\NotificationUser.aspx_Id=11266&Mode=0\n",
      "Failed to save https://rbi.org.in/Scripts/NotificationUser.aspx?Id=11266&Mode=0: ('Connection aborted.', RemoteDisconnected('Remote end closed connection without response'))\n"
     ]
    }
   ],
   "source": [
    "import requests\n",
    "import PyPDF2\n",
    "import os\n",
    "import re\n",
    "from urllib.parse import urljoin\n",
    "\n",
    "# First, extract links from the PDF\n",
    "def extract_links_from_pdf(pdf_path):\n",
    "    links = []\n",
    "    with open(pdf_path, 'rb') as file:\n",
    "        reader = PyPDF2.PdfReader(file)\n",
    "        for page in reader.pages:\n",
    "            if '/Annots' in page:\n",
    "                for annot in page['/Annots']:\n",
    "                    annot_obj = annot.get_object()  # Resolve the IndirectObject\n",
    "                    if '/A' in annot_obj:\n",
    "                        action = annot_obj['/A']\n",
    "                        if '/URI' in action:\n",
    "                            uri = action['/URI']\n",
    "                            links.append(uri)\n",
    "    return links\n",
    "\n",
    "# Removing any characters that are invalid in Windows filenames\n",
    "def sanitize_filename(url):\n",
    "    return re.sub(r'[<>:\"/\\\\|?*\\x00-\\x1F]', '_', url.split('/')[-1])\n",
    "\n",
    "def download_pdf(url, output_folder):\n",
    "    try:\n",
    "        response = requests.get(url)\n",
    "        response.raise_for_status()  # Check for HTTP errors\n",
    "        pdf_name = sanitize_filename(url) \n",
    "        pdf_path = os.path.join(output_folder, pdf_name)\n",
    "        with open(pdf_path, 'wb') as pdf_file:\n",
    "            pdf_file.write(response.content)\n",
    "        print(f'Downloaded: {pdf_path}')\n",
    "    except requests.exceptions.HTTPError as e:\n",
    "        print(f'Failed to download {url}: {e}')  # Handle HTTP errors \n",
    "    except Exception as e:\n",
    "        print(f'Failed to save {url}: {e}')  \n",
    "\n",
    "def main():\n",
    "    # Ask the user to input the path to the input PDF\n",
    "    input_pdf_path = input(\"Enter the path of the PDF file: \")\n",
    "    \n",
    "    # Ask the user to specify the output directory\n",
    "    output_directory = input(\"Enter the output directory where files should be saved: \")\n",
    "    \n",
    "    if not os.path.exists(output_directory):\n",
    "        os.makedirs(output_directory)\n",
    "\n",
    "    links = extract_links_from_pdf(input_pdf_path)\n",
    "    for link in links:\n",
    "        download_pdf(link, output_directory)\n",
    "\n",
    "if __name__ == '__main__':\n",
    "    main()\n"
   ]
  },
  {
   "cell_type": "code",
   "execution_count": null,
   "id": "0155bd72-fef6-4bfc-8edd-31866a8e7329",
   "metadata": {},
   "outputs": [],
   "source": []
  }
 ],
 "metadata": {
  "kernelspec": {
   "display_name": "Python 3 (ipykernel)",
   "language": "python",
   "name": "python3"
  },
  "language_info": {
   "codemirror_mode": {
    "name": "ipython",
    "version": 3
   },
   "file_extension": ".py",
   "mimetype": "text/x-python",
   "name": "python",
   "nbconvert_exporter": "python",
   "pygments_lexer": "ipython3",
   "version": "3.12.3"
  }
 },
 "nbformat": 4,
 "nbformat_minor": 5
}
